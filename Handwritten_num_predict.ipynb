{
  "nbformat": 4,
  "nbformat_minor": 0,
  "metadata": {
    "colab": {
      "provenance": []
    },
    "kernelspec": {
      "name": "python3",
      "display_name": "Python 3"
    },
    "language_info": {
      "name": "python"
    }
  },
  "cells": [
    {
      "cell_type": "code",
      "source": [
        "import pandas as pd\n",
        "import numpy as np\n",
        "from sklearn.preprocessing import StandardScaler\n",
        "from sklearn.datasets import fetch_openml\n",
        "from sklearn.decomposition import PCA\n",
        "from sklearn.linear_model import LogisticRegression\n",
        "from sklearn.model_selection import train_test_split\n",
        "import matplotlib.pyplot as plt\n",
        "\n",
        "\n",
        "mnist = fetch_openml(\"mnist_784\")\n"
      ],
      "metadata": {
        "id": "d03xr9uvFSMb",
        "colab": {
          "base_uri": "https://localhost:8080/"
        },
        "outputId": "084dc50b-8e67-45e5-e9b1-8035efd94280"
      },
      "execution_count": null,
      "outputs": [
        {
          "output_type": "stream",
          "name": "stderr",
          "text": [
            "/usr/local/lib/python3.10/dist-packages/sklearn/datasets/_openml.py:968: FutureWarning: The default value of `parser` will change from `'liac-arff'` to `'auto'` in 1.4. You can set `parser='auto'` to silence this warning. Therefore, an `ImportError` will be raised from 1.4 if the dataset is dense and pandas is not installed. Note that the pandas parser may return different data types. See the Notes Section in fetch_openml's API doc for details.\n",
            "  warn(\n"
          ]
        }
      ]
    },
    {
      "cell_type": "code",
      "source": [
        "def showimage(df, index):\n",
        "  digit_image = df.to_numpy()[index].reshape(28,28)\n",
        "  plt.imshow(digit_image, cmap=\"binary\")\n",
        "  plt.axis(\"off\")\n",
        "  plt.show()\n",
        "\n",
        "showimage(mnist.data, 0)\n",
        "\n"
      ],
      "metadata": {
        "id": "WbscbFUTA0bu",
        "colab": {
          "base_uri": "https://localhost:8080/",
          "height": 406
        },
        "outputId": "1beb456b-350b-4af8-a5cd-6bf77dfe519c"
      },
      "execution_count": null,
      "outputs": [
        {
          "output_type": "display_data",
          "data": {
            "text/plain": [
              "<Figure size 640x480 with 1 Axes>"
            ],
            "image/png": "[encoded data removed]"
          },
          "metadata": {}
        }
      ]
    },
    {
      "cell_type": "code",
      "source": [
        "train_img, test_img, train_lbl, test_lbl = train_test_split(mnist.data, mnist.target,test_size = 1/7, random_state=0)\n",
        "\n",
        "test_img_copy = test_img.copy()\n",
        "\n",
        "scaler = StandardScaler()\n",
        "\n",
        "scaler.fit(train_img)\n",
        "\n",
        "train_img = scaler.transform (train_img)\n",
        "test_img = scaler.transform (test_img)\n",
        "\n",
        "\n",
        "pca = PCA(.95) # %95 varyans ile verileri sıkıştır\n",
        "pca.fit(train_img)\n",
        "train_img = pca.transform(train_img)\n",
        "test_img = pca.transform(test_img)\n",
        "\n",
        "\n",
        "#print(pca.n_components_)\n",
        "\n",
        "logistic_reg = LogisticRegression(solver = 'lbfgs' , max_iter = 10000)\n",
        "logistic_reg.fit (train_img,train_lbl)\n",
        "\n",
        "print (\"Accuracy: \" , logistic_reg.score(test_img,test_lbl))\n",
        "\n"
      ],
      "metadata": {
        "colab": {
          "base_uri": "https://localhost:8080/"
        },
        "id": "h42xcNFyFjjv",
        "outputId": "14fbdf6d-b73e-47b1-cc20-2c3435d24adc"
      },
      "execution_count": null,
      "outputs": [
        {
          "output_type": "stream",
          "name": "stdout",
          "text": [
            "Accuracy:  0.9184\n"
          ]
        }
      ]
    },
    {
      "cell_type": "code",
      "source": [
        "print(\"Real number: \")\n",
        "showimage(test_img_copy, 156)\n",
        "print ( \"Predicted number: \" , logistic_reg.predict(test_img[115].reshape(1,-1)))"
      ],
      "metadata": {
        "colab": {
          "base_uri": "https://localhost:8080/",
          "height": 442
        },
        "id": "woEwDWmoJTaT",
        "outputId": "ff746f19-c7d2-4401-b246-b2f7dc5a447a"
      },
      "execution_count": null,
      "outputs": [
        {
          "output_type": "stream",
          "name": "stdout",
          "text": [
            "Real number: \n"
          ]
        },
        {
          "output_type": "display_data",
          "data": {
            "text/plain": [
              "<Figure size 640x480 with 1 Axes>"
            ],
            "image/png": "[encoded data removed]"
          },
          "metadata": {}
        },
        {
          "output_type": "stream",
          "name": "stdout",
          "text": [
            "Predicted number:  ['6']\n"
          ]
        }
      ]
    },
    {
      "cell_type": "code",
      "source": [],
      "metadata": {
        "colab": {
          "base_uri": "https://localhost:8080/"
        },
        "id": "9_mbUz3D3mOF",
        "outputId": "99c09775-1a20-40aa-8a95-560c1464eaa6"
      },
      "execution_count": null,
      "outputs": [
        {
          "output_type": "stream",
          "name": "stdout",
          "text": [
            "Epoch 1/10\n",
            "469/469 [==============================] - 61s 124ms/step - loss: 0.3024 - accuracy: 0.9084 - val_loss: 0.0576 - val_accuracy: 0.9819\n",
            "Epoch 2/10\n",
            "469/469 [==============================] - 54s 116ms/step - loss: 0.0998 - accuracy: 0.9704 - val_loss: 0.0421 - val_accuracy: 0.9858\n",
            "Epoch 3/10\n",
            "469/469 [==============================] - 47s 100ms/step - loss: 0.0736 - accuracy: 0.9778 - val_loss: 0.0361 - val_accuracy: 0.9881\n",
            "Epoch 4/10\n",
            "469/469 [==============================] - 48s 102ms/step - loss: 0.0590 - accuracy: 0.9818 - val_loss: 0.0306 - val_accuracy: 0.9896\n",
            "Epoch 5/10\n",
            "469/469 [==============================] - 47s 99ms/step - loss: 0.0491 - accuracy: 0.9853 - val_loss: 0.0267 - val_accuracy: 0.9903\n",
            "Epoch 6/10\n",
            "469/469 [==============================] - 48s 103ms/step - loss: 0.0430 - accuracy: 0.9873 - val_loss: 0.0273 - val_accuracy: 0.9908\n",
            "Epoch 7/10\n",
            "469/469 [==============================] - 47s 100ms/step - loss: 0.0397 - accuracy: 0.9878 - val_loss: 0.0230 - val_accuracy: 0.9919\n",
            "Epoch 8/10\n",
            "469/469 [==============================] - 50s 107ms/step - loss: 0.0337 - accuracy: 0.9893 - val_loss: 0.0243 - val_accuracy: 0.9910\n",
            "Epoch 9/10\n",
            "469/469 [==============================] - 47s 100ms/step - loss: 0.0300 - accuracy: 0.9909 - val_loss: 0.0303 - val_accuracy: 0.9904\n",
            "Epoch 10/10\n",
            "469/469 [==============================] - 50s 107ms/step - loss: 0.0280 - accuracy: 0.9912 - val_loss: 0.0232 - val_accuracy: 0.9923\n",
            "Test loss: 0.023170452564954758\n",
            "Test accuracy: 0.9922999739646912\n"
          ]
        }
      ]
    },
    {
      "cell_type": "code",
      "source": [],
      "metadata": {
        "id": "apTzFvuEKwvv"
      },
      "execution_count": null,
      "outputs": []
    }
  ]
}